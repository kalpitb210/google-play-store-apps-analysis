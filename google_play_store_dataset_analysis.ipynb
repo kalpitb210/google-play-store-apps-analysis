{
 "cells": [
  {
   "cell_type": "markdown",
   "id": "28e91d13-d24f-444f-9f53-75b792612dfc",
   "metadata": {},
   "source": [
    "### Android Market Growth:"
   ]
  },
  {
   "cell_type": "markdown",
   "id": "99e45146-a61a-4504-b69a-e271fd3b061b",
   "metadata": {},
   "source": [
    "- The Android market is witnessing exponential growth, with millions of new apps being added to the Google Play Store regularly.\n",
    "- As smartphone penetration increases globally and technology advances, the demand for mobile apps continues to rise.\n",
    "- This project aims to provide a deeper understanding of this growing market and its dynamics, helping stakeholders capitalize on the opportunities it presents."
   ]
  },
  {
   "cell_type": "markdown",
   "id": "98ad17aa-ac5a-4494-bce1-fd0658380cc8",
   "metadata": {},
   "source": [
    "### Project Overview"
   ]
  },
  {
   "cell_type": "markdown",
   "id": "357f2637-2ece-4480-a23b-fc0b09c383f9",
   "metadata": {},
   "source": [
    "- Project aims to thoroughly analyze the Google Play Store dataset to uncover insights into various aspects of the Android app market.\n",
    "- By looking into the dataset, want to unconver the trends, patterns, and factors that at influence app popularity, ratings, and installations."
   ]
  },
  {
   "cell_type": "markdown",
   "id": "441359ab-e7fa-437e-8be0-08b8cef26615",
   "metadata": {},
   "source": [
    "### Key Objectives"
   ]
  },
  {
   "cell_type": "markdown",
   "id": "7f4fee36-6d44-47e0-969b-c518f95b72ac",
   "metadata": {},
   "source": [
    "- **Exploratory Data Analysis (EDA):** Objective involves conducting an Exploratory Data Analysis to get the dataset's distribution and characteristics. This includes examining summary statistics, the distribution of continuous and discrete variables, and identifying any missing or inconsistent data.\n",
    "- **Market Trends Analysis:** Analyze App Categories, Ratings, Installs, and Pricing trends over time. This analysis aims to spot popular app categories, emerging trends, and shifts in user preferences.\n",
    "- **Factors Influencing App Success:** get the factors that influencing app success such as ratings, rating counts, installs, and pricing. Explore correlations between these factors and determine their impact on app popularity and user engagement."
   ]
  },
  {
   "cell_type": "markdown",
   "id": "70865a3c-5619-4ea9-96d6-000e047c3c8e",
   "metadata": {},
   "source": [
    "### How this project Can Help:"
   ]
  },
  {
   "cell_type": "markdown",
   "id": "4a3dbd1b-7356-4a84-b649-4de99a576ab9",
   "metadata": {},
   "source": [
    "- **Inform App Development Strategies:** Insights from the analysis can help app developers understand market trends and user preferences. This can help in developing new apps or updating existing ones effectively.\n",
    "- **Optimize Marketing Efforts:** By understanding factors influencing app success, marketers can update their strategies to improve app visibility, attract more users, and enhance user engagement.\n",
    "- **Identify Investment Opportunities:** Investors and stakeholders can use the analysis to identify promising app categories or developers for potential investment opportunities in the dynamic Android app market.\n",
    "- **Stay Competitive:** n a swiftly evolving market, staying abreast of trends and user behavior is crucial for businesses to remain competitive. This analysis provides valuable insights to help businesses stay ahead in the Android app market."
   ]
  },
  {
   "cell_type": "markdown",
   "id": "9175a047-0f8b-4e1c-817a-ea0b03e3efc0",
   "metadata": {},
   "source": [
    "####"
   ]
  },
  {
   "cell_type": "markdown",
   "id": "91ee464b-ada3-4d0d-b7a8-c591ffc372b7",
   "metadata": {},
   "source": [
    "## **Data Pre-processing**"
   ]
  },
  {
   "cell_type": "code",
   "execution_count": 360,
   "id": "7ced074b-9ff3-4184-bf63-1ea26ded2a69",
   "metadata": {},
   "outputs": [],
   "source": [
    "# installing required libraries \n",
    "\n",
    "# pip install -r requirements.txt"
   ]
  },
  {
   "cell_type": "code",
   "execution_count": 361,
   "id": "fc53322c-acc9-4e07-a907-549f4482036e",
   "metadata": {},
   "outputs": [],
   "source": [
    "# importing required libraries\n",
    "import pandas as pd\n",
    "import numpy as np\n",
    "import matplotlib.pyplot as plt\n",
    "import seaborn as sns"
   ]
  },
  {
   "cell_type": "markdown",
   "id": "0b221be1-09fc-4eb8-9562-0c4f8bba67e1",
   "metadata": {},
   "source": [
    "###"
   ]
  },
  {
   "cell_type": "markdown",
   "id": "7a55cda7-805e-4315-b7ec-e182ce240633",
   "metadata": {},
   "source": [
    "**Dataset Link** = https://drive.google.com/drive/folders/1aIfJ605VoCF-fmrxY8Xj_Qgf1XfMDXt8"
   ]
  },
  {
   "cell_type": "markdown",
   "id": "da7e7a62",
   "metadata": {},
   "source": [
    "### Data Preperation"
   ]
  },
  {
   "cell_type": "markdown",
   "id": "9acd92bd-089f-4d04-8cde-256669186eda",
   "metadata": {},
   "source": [
    "#### Loading Data"
   ]
  },
  {
   "cell_type": "code",
   "execution_count": 362,
   "id": "e86f2eff-65ac-4ede-8ed2-40505b199fcf",
   "metadata": {},
   "outputs": [],
   "source": [
    "# import datasets (csv files)\n",
    "\n",
    "df1 = pd.read_csv(\"D:\\\\Projects\\\\project_datasets\\\\google_paly_store_dataset\\\\google_play_store_data_1.csv\")\n",
    "\n",
    "column_names = ['App Name', 'App Id', 'Category', 'Rating', 'Rating Count', 'Installs',\n",
    "       'Minimum Installs', 'Maximum Installs', 'Free', 'Price', 'Currency',\n",
    "       'Size', 'Minimum Android', 'Developer Id', 'Developer Website',\n",
    "       'Developer Email', 'Released', 'Last Updated', 'Content Rating',\n",
    "       'Privacy Policy', 'Ad Supported', 'In App Purchases', 'Editors Choice',\n",
    "       'Scraped Time']\n",
    "\n",
    "df2 = pd.read_csv(\"D:\\\\Projects\\\\project_datasets\\\\google_paly_store_dataset\\\\google_play_store_data_2.csv\", header=None) \n",
    "df2.loc[-1] = df2.iloc[0]\n",
    "df2 = df2.drop(0).reset_index(drop=True)\n",
    "df2.columns = column_names\n",
    "df2 = df2.reset_index(drop=True)\n",
    "\n",
    "df3 = pd.read_csv(\"D:\\\\Projects\\\\project_datasets\\\\google_paly_store_dataset\\\\google_play_store_data_3.csv\", header=None)\n",
    "df3.loc[-1] = df3.iloc[0]\n",
    "df3 = df3.drop(0).reset_index(drop=True)\n",
    "df3.columns = column_names\n",
    "df3 = df3.reset_index(drop=True)"
   ]
  },
  {
   "cell_type": "code",
   "execution_count": 363,
   "id": "7e66a059-9172-40dc-b403-3b7d3f988c3a",
   "metadata": {},
   "outputs": [
    {
     "data": {
      "text/html": [
       "<div>\n",
       "<style scoped>\n",
       "    .dataframe tbody tr th:only-of-type {\n",
       "        vertical-align: middle;\n",
       "    }\n",
       "\n",
       "    .dataframe tbody tr th {\n",
       "        vertical-align: top;\n",
       "    }\n",
       "\n",
       "    .dataframe thead th {\n",
       "        text-align: right;\n",
       "    }\n",
       "</style>\n",
       "<table border=\"1\" class=\"dataframe\">\n",
       "  <thead>\n",
       "    <tr style=\"text-align: right;\">\n",
       "      <th></th>\n",
       "      <th>App Name</th>\n",
       "      <th>App Id</th>\n",
       "      <th>Category</th>\n",
       "      <th>Rating</th>\n",
       "      <th>Rating Count</th>\n",
       "      <th>Installs</th>\n",
       "      <th>Minimum Installs</th>\n",
       "      <th>Maximum Installs</th>\n",
       "      <th>Free</th>\n",
       "      <th>Price</th>\n",
       "      <th>...</th>\n",
       "      <th>Developer Website</th>\n",
       "      <th>Developer Email</th>\n",
       "      <th>Released</th>\n",
       "      <th>Last Updated</th>\n",
       "      <th>Content Rating</th>\n",
       "      <th>Privacy Policy</th>\n",
       "      <th>Ad Supported</th>\n",
       "      <th>In App Purchases</th>\n",
       "      <th>Editors Choice</th>\n",
       "      <th>Scraped Time</th>\n",
       "    </tr>\n",
       "  </thead>\n",
       "  <tbody>\n",
       "    <tr>\n",
       "      <th>0</th>\n",
       "      <td>Gakondo</td>\n",
       "      <td>com.ishakwe.gakondo</td>\n",
       "      <td>Adventure</td>\n",
       "      <td>0.0</td>\n",
       "      <td>0.0</td>\n",
       "      <td>10+</td>\n",
       "      <td>10.0</td>\n",
       "      <td>15</td>\n",
       "      <td>True</td>\n",
       "      <td>0.0</td>\n",
       "      <td>...</td>\n",
       "      <td>https://beniyizibyose.tk/#/</td>\n",
       "      <td>jean21101999@gmail.com</td>\n",
       "      <td>Feb 26, 2020</td>\n",
       "      <td>Feb 26, 2020</td>\n",
       "      <td>Everyone</td>\n",
       "      <td>https://beniyizibyose.tk/projects/</td>\n",
       "      <td>False</td>\n",
       "      <td>False</td>\n",
       "      <td>False</td>\n",
       "      <td>2021-06-15 20:19:35</td>\n",
       "    </tr>\n",
       "    <tr>\n",
       "      <th>1</th>\n",
       "      <td>Ampere Battery Info</td>\n",
       "      <td>com.webserveis.batteryinfo</td>\n",
       "      <td>Tools</td>\n",
       "      <td>4.4</td>\n",
       "      <td>64.0</td>\n",
       "      <td>5,000+</td>\n",
       "      <td>5000.0</td>\n",
       "      <td>7662</td>\n",
       "      <td>True</td>\n",
       "      <td>0.0</td>\n",
       "      <td>...</td>\n",
       "      <td>https://webserveis.netlify.app/</td>\n",
       "      <td>webserveis@gmail.com</td>\n",
       "      <td>May 21, 2020</td>\n",
       "      <td>May 06, 2021</td>\n",
       "      <td>Everyone</td>\n",
       "      <td>https://dev4phones.wordpress.com/licencia-de-uso/</td>\n",
       "      <td>True</td>\n",
       "      <td>False</td>\n",
       "      <td>False</td>\n",
       "      <td>2021-06-15 20:19:35</td>\n",
       "    </tr>\n",
       "    <tr>\n",
       "      <th>2</th>\n",
       "      <td>Vibook</td>\n",
       "      <td>com.doantiepvien.crm</td>\n",
       "      <td>Productivity</td>\n",
       "      <td>0.0</td>\n",
       "      <td>0.0</td>\n",
       "      <td>50+</td>\n",
       "      <td>50.0</td>\n",
       "      <td>58</td>\n",
       "      <td>True</td>\n",
       "      <td>0.0</td>\n",
       "      <td>...</td>\n",
       "      <td>NaN</td>\n",
       "      <td>vnacrewit@gmail.com</td>\n",
       "      <td>Aug 9, 2019</td>\n",
       "      <td>Aug 19, 2019</td>\n",
       "      <td>Everyone</td>\n",
       "      <td>https://www.vietnamairlines.com/vn/en/terms-an...</td>\n",
       "      <td>False</td>\n",
       "      <td>False</td>\n",
       "      <td>False</td>\n",
       "      <td>2021-06-15 20:19:35</td>\n",
       "    </tr>\n",
       "    <tr>\n",
       "      <th>3</th>\n",
       "      <td>Smart City Trichy Public Service Vehicles 17UC...</td>\n",
       "      <td>cst.stJoseph.ug17ucs548</td>\n",
       "      <td>Communication</td>\n",
       "      <td>5.0</td>\n",
       "      <td>5.0</td>\n",
       "      <td>10+</td>\n",
       "      <td>10.0</td>\n",
       "      <td>19</td>\n",
       "      <td>True</td>\n",
       "      <td>0.0</td>\n",
       "      <td>...</td>\n",
       "      <td>http://www.climatesmarttech.com/</td>\n",
       "      <td>climatesmarttech2@gmail.com</td>\n",
       "      <td>Sep 10, 2018</td>\n",
       "      <td>Oct 13, 2018</td>\n",
       "      <td>Everyone</td>\n",
       "      <td>NaN</td>\n",
       "      <td>True</td>\n",
       "      <td>False</td>\n",
       "      <td>False</td>\n",
       "      <td>2021-06-15 20:19:35</td>\n",
       "    </tr>\n",
       "    <tr>\n",
       "      <th>4</th>\n",
       "      <td>GROW.me</td>\n",
       "      <td>com.horodyski.grower</td>\n",
       "      <td>Tools</td>\n",
       "      <td>0.0</td>\n",
       "      <td>0.0</td>\n",
       "      <td>100+</td>\n",
       "      <td>100.0</td>\n",
       "      <td>478</td>\n",
       "      <td>True</td>\n",
       "      <td>0.0</td>\n",
       "      <td>...</td>\n",
       "      <td>http://www.horodyski.com.pl</td>\n",
       "      <td>rmilekhorodyski@gmail.com</td>\n",
       "      <td>Feb 21, 2020</td>\n",
       "      <td>Nov 12, 2018</td>\n",
       "      <td>Everyone</td>\n",
       "      <td>http://www.horodyski.com.pl</td>\n",
       "      <td>False</td>\n",
       "      <td>False</td>\n",
       "      <td>False</td>\n",
       "      <td>2021-06-15 20:19:35</td>\n",
       "    </tr>\n",
       "  </tbody>\n",
       "</table>\n",
       "<p>5 rows × 24 columns</p>\n",
       "</div>"
      ],
      "text/plain": [
       "                                            App Name  \\\n",
       "0                                            Gakondo   \n",
       "1                                Ampere Battery Info   \n",
       "2                                             Vibook   \n",
       "3  Smart City Trichy Public Service Vehicles 17UC...   \n",
       "4                                            GROW.me   \n",
       "\n",
       "                       App Id       Category  Rating  Rating Count Installs  \\\n",
       "0         com.ishakwe.gakondo      Adventure     0.0           0.0      10+   \n",
       "1  com.webserveis.batteryinfo          Tools     4.4          64.0   5,000+   \n",
       "2        com.doantiepvien.crm   Productivity     0.0           0.0      50+   \n",
       "3     cst.stJoseph.ug17ucs548  Communication     5.0           5.0      10+   \n",
       "4        com.horodyski.grower          Tools     0.0           0.0     100+   \n",
       "\n",
       "   Minimum Installs  Maximum Installs  Free  Price  ...  \\\n",
       "0              10.0                15  True    0.0  ...   \n",
       "1            5000.0              7662  True    0.0  ...   \n",
       "2              50.0                58  True    0.0  ...   \n",
       "3              10.0                19  True    0.0  ...   \n",
       "4             100.0               478  True    0.0  ...   \n",
       "\n",
       "                  Developer Website              Developer Email  \\\n",
       "0       https://beniyizibyose.tk/#/       jean21101999@gmail.com   \n",
       "1   https://webserveis.netlify.app/         webserveis@gmail.com   \n",
       "2                               NaN          vnacrewit@gmail.com   \n",
       "3  http://www.climatesmarttech.com/  climatesmarttech2@gmail.com   \n",
       "4       http://www.horodyski.com.pl    rmilekhorodyski@gmail.com   \n",
       "\n",
       "       Released  Last Updated Content Rating  \\\n",
       "0  Feb 26, 2020  Feb 26, 2020       Everyone   \n",
       "1  May 21, 2020  May 06, 2021       Everyone   \n",
       "2   Aug 9, 2019  Aug 19, 2019       Everyone   \n",
       "3  Sep 10, 2018  Oct 13, 2018       Everyone   \n",
       "4  Feb 21, 2020  Nov 12, 2018       Everyone   \n",
       "\n",
       "                                      Privacy Policy Ad Supported  \\\n",
       "0                 https://beniyizibyose.tk/projects/        False   \n",
       "1  https://dev4phones.wordpress.com/licencia-de-uso/         True   \n",
       "2  https://www.vietnamairlines.com/vn/en/terms-an...        False   \n",
       "3                                                NaN         True   \n",
       "4                        http://www.horodyski.com.pl        False   \n",
       "\n",
       "  In App Purchases Editors Choice         Scraped Time  \n",
       "0            False          False  2021-06-15 20:19:35  \n",
       "1            False          False  2021-06-15 20:19:35  \n",
       "2            False          False  2021-06-15 20:19:35  \n",
       "3            False          False  2021-06-15 20:19:35  \n",
       "4            False          False  2021-06-15 20:19:35  \n",
       "\n",
       "[5 rows x 24 columns]"
      ]
     },
     "execution_count": 363,
     "metadata": {},
     "output_type": "execute_result"
    }
   ],
   "source": [
    "df1.head()"
   ]
  },
  {
   "cell_type": "code",
   "execution_count": 364,
   "id": "79d85952-31b5-4b58-9ae2-560f386dd5a1",
   "metadata": {},
   "outputs": [
    {
     "data": {
      "text/plain": [
       "Index(['App Name', 'App Id', 'Category', 'Rating', 'Rating Count', 'Installs',\n",
       "       'Minimum Installs', 'Maximum Installs', 'Free', 'Price', 'Currency',\n",
       "       'Size', 'Minimum Android', 'Developer Id', 'Developer Website',\n",
       "       'Developer Email', 'Released', 'Last Updated', 'Content Rating',\n",
       "       'Privacy Policy', 'Ad Supported', 'In App Purchases', 'Editors Choice',\n",
       "       'Scraped Time'],\n",
       "      dtype='object')"
      ]
     },
     "execution_count": 364,
     "metadata": {},
     "output_type": "execute_result"
    }
   ],
   "source": [
    "df1.columns"
   ]
  },
  {
   "cell_type": "code",
   "execution_count": 365,
   "id": "2ed37c83-d7bc-4791-a381-922da680b565",
   "metadata": {},
   "outputs": [
    {
     "data": {
      "text/html": [
       "<div>\n",
       "<style scoped>\n",
       "    .dataframe tbody tr th:only-of-type {\n",
       "        vertical-align: middle;\n",
       "    }\n",
       "\n",
       "    .dataframe tbody tr th {\n",
       "        vertical-align: top;\n",
       "    }\n",
       "\n",
       "    .dataframe thead th {\n",
       "        text-align: right;\n",
       "    }\n",
       "</style>\n",
       "<table border=\"1\" class=\"dataframe\">\n",
       "  <thead>\n",
       "    <tr style=\"text-align: right;\">\n",
       "      <th></th>\n",
       "      <th>App Name</th>\n",
       "      <th>App Id</th>\n",
       "      <th>Category</th>\n",
       "      <th>Rating</th>\n",
       "      <th>Rating Count</th>\n",
       "      <th>Installs</th>\n",
       "      <th>Minimum Installs</th>\n",
       "      <th>Maximum Installs</th>\n",
       "      <th>Free</th>\n",
       "      <th>Price</th>\n",
       "      <th>...</th>\n",
       "      <th>Developer Website</th>\n",
       "      <th>Developer Email</th>\n",
       "      <th>Released</th>\n",
       "      <th>Last Updated</th>\n",
       "      <th>Content Rating</th>\n",
       "      <th>Privacy Policy</th>\n",
       "      <th>Ad Supported</th>\n",
       "      <th>In App Purchases</th>\n",
       "      <th>Editors Choice</th>\n",
       "      <th>Scraped Time</th>\n",
       "    </tr>\n",
       "  </thead>\n",
       "  <tbody>\n",
       "    <tr>\n",
       "      <th>799995</th>\n",
       "      <td>Bizotic</td>\n",
       "      <td>com.bizotic.curldemo</td>\n",
       "      <td>Business</td>\n",
       "      <td>4.9</td>\n",
       "      <td>11.0</td>\n",
       "      <td>100+</td>\n",
       "      <td>100.0</td>\n",
       "      <td>167</td>\n",
       "      <td>True</td>\n",
       "      <td>0.0</td>\n",
       "      <td>...</td>\n",
       "      <td>http://www.bizotic.co.in</td>\n",
       "      <td>bizoticindia@gmail.com</td>\n",
       "      <td>May 9, 2019</td>\n",
       "      <td>May 16, 2019</td>\n",
       "      <td>Everyone</td>\n",
       "      <td>NaN</td>\n",
       "      <td>False</td>\n",
       "      <td>False</td>\n",
       "      <td>False</td>\n",
       "      <td>2021-06-16 02:47:55</td>\n",
       "    </tr>\n",
       "    <tr>\n",
       "      <th>799996</th>\n",
       "      <td>cVendManager</td>\n",
       "      <td>com.cartadis.cvendmanager</td>\n",
       "      <td>Tools</td>\n",
       "      <td>0.0</td>\n",
       "      <td>0.0</td>\n",
       "      <td>10+</td>\n",
       "      <td>10.0</td>\n",
       "      <td>29</td>\n",
       "      <td>True</td>\n",
       "      <td>0.0</td>\n",
       "      <td>...</td>\n",
       "      <td>http://www.cartadis.com</td>\n",
       "      <td>support@cartadis.com</td>\n",
       "      <td>Jun 4, 2019</td>\n",
       "      <td>Nov 20, 2019</td>\n",
       "      <td>Everyone</td>\n",
       "      <td>https://www.cartadis.com/legals/</td>\n",
       "      <td>False</td>\n",
       "      <td>False</td>\n",
       "      <td>False</td>\n",
       "      <td>2021-06-16 02:47:55</td>\n",
       "    </tr>\n",
       "    <tr>\n",
       "      <th>799997</th>\n",
       "      <td>Motivational Quotes - Daily Quote &amp; Status Mes...</td>\n",
       "      <td>com.bluestar.quotes.bestlifequotes</td>\n",
       "      <td>Art &amp; Design</td>\n",
       "      <td>3.9</td>\n",
       "      <td>47.0</td>\n",
       "      <td>10,000+</td>\n",
       "      <td>10000.0</td>\n",
       "      <td>13669</td>\n",
       "      <td>True</td>\n",
       "      <td>0.0</td>\n",
       "      <td>...</td>\n",
       "      <td>NaN</td>\n",
       "      <td>123traveller24@gmail.com</td>\n",
       "      <td>Sep 26, 2020</td>\n",
       "      <td>Oct 04, 2020</td>\n",
       "      <td>Everyone</td>\n",
       "      <td>https://sites.google.com/view/bluestare/</td>\n",
       "      <td>True</td>\n",
       "      <td>True</td>\n",
       "      <td>False</td>\n",
       "      <td>2021-06-16 02:47:55</td>\n",
       "    </tr>\n",
       "    <tr>\n",
       "      <th>799998</th>\n",
       "      <td>Sabaiko Nepali Guide-Class 11 and 12</td>\n",
       "      <td>com.tgn.sabaikonepali</td>\n",
       "      <td>Books &amp; Reference</td>\n",
       "      <td>4.0</td>\n",
       "      <td>11.0</td>\n",
       "      <td>5,000+</td>\n",
       "      <td>5000.0</td>\n",
       "      <td>5038</td>\n",
       "      <td>True</td>\n",
       "      <td>0.0</td>\n",
       "      <td>...</td>\n",
       "      <td>https://tgnsolution.com/</td>\n",
       "      <td>contact@tgnsolution.com</td>\n",
       "      <td>Jul 26, 2020</td>\n",
       "      <td>Aug 04, 2020</td>\n",
       "      <td>Everyone</td>\n",
       "      <td>NaN</td>\n",
       "      <td>True</td>\n",
       "      <td>False</td>\n",
       "      <td>False</td>\n",
       "      <td>2021-06-16 02:47:55</td>\n",
       "    </tr>\n",
       "    <tr>\n",
       "      <th>799999</th>\n",
       "      <td>Book, A Traveler from Altruria: Romance</td>\n",
       "      <td>com.free074a81ba94cf6951221ca03606d56.user.ebo...</td>\n",
       "      <td>Books &amp; Reference</td>\n",
       "      <td>0.0</td>\n",
       "      <td>0.0</td>\n",
       "      <td>1+</td>\n",
       "      <td>1.0</td>\n",
       "      <td>1</td>\n",
       "      <td>True</td>\n",
       "      <td>0.0</td>\n",
       "      <td>...</td>\n",
       "      <td>https://zeta-mars.blogspot.com</td>\n",
       "      <td>marszeta@gmail.com</td>\n",
       "      <td>Apr 29, 2020</td>\n",
       "      <td>Apr 26, 2021</td>\n",
       "      <td>Teen</td>\n",
       "      <td>https://zeta-mars.blogspot.com/2018/11/blog-po...</td>\n",
       "      <td>True</td>\n",
       "      <td>False</td>\n",
       "      <td>False</td>\n",
       "      <td>2021-06-16 09:11:58</td>\n",
       "    </tr>\n",
       "  </tbody>\n",
       "</table>\n",
       "<p>5 rows × 24 columns</p>\n",
       "</div>"
      ],
      "text/plain": [
       "                                                 App Name  \\\n",
       "799995                                            Bizotic   \n",
       "799996                                       cVendManager   \n",
       "799997  Motivational Quotes - Daily Quote & Status Mes...   \n",
       "799998               Sabaiko Nepali Guide-Class 11 and 12   \n",
       "799999            Book, A Traveler from Altruria: Romance   \n",
       "\n",
       "                                                   App Id           Category  \\\n",
       "799995                               com.bizotic.curldemo           Business   \n",
       "799996                          com.cartadis.cvendmanager              Tools   \n",
       "799997                 com.bluestar.quotes.bestlifequotes       Art & Design   \n",
       "799998                              com.tgn.sabaikonepali  Books & Reference   \n",
       "799999  com.free074a81ba94cf6951221ca03606d56.user.ebo...  Books & Reference   \n",
       "\n",
       "        Rating  Rating Count Installs  Minimum Installs  Maximum Installs  \\\n",
       "799995     4.9          11.0     100+             100.0               167   \n",
       "799996     0.0           0.0      10+              10.0                29   \n",
       "799997     3.9          47.0  10,000+           10000.0             13669   \n",
       "799998     4.0          11.0   5,000+            5000.0              5038   \n",
       "799999     0.0           0.0       1+               1.0                 1   \n",
       "\n",
       "        Free  Price  ...               Developer Website  \\\n",
       "799995  True    0.0  ...        http://www.bizotic.co.in   \n",
       "799996  True    0.0  ...         http://www.cartadis.com   \n",
       "799997  True    0.0  ...                             NaN   \n",
       "799998  True    0.0  ...        https://tgnsolution.com/   \n",
       "799999  True    0.0  ...  https://zeta-mars.blogspot.com   \n",
       "\n",
       "                 Developer Email      Released  Last Updated Content Rating  \\\n",
       "799995    bizoticindia@gmail.com   May 9, 2019  May 16, 2019       Everyone   \n",
       "799996      support@cartadis.com   Jun 4, 2019  Nov 20, 2019       Everyone   \n",
       "799997  123traveller24@gmail.com  Sep 26, 2020  Oct 04, 2020       Everyone   \n",
       "799998   contact@tgnsolution.com  Jul 26, 2020  Aug 04, 2020       Everyone   \n",
       "799999        marszeta@gmail.com  Apr 29, 2020  Apr 26, 2021           Teen   \n",
       "\n",
       "                                           Privacy Policy Ad Supported  \\\n",
       "799995                                                NaN        False   \n",
       "799996                   https://www.cartadis.com/legals/        False   \n",
       "799997           https://sites.google.com/view/bluestare/         True   \n",
       "799998                                                NaN         True   \n",
       "799999  https://zeta-mars.blogspot.com/2018/11/blog-po...         True   \n",
       "\n",
       "       In App Purchases Editors Choice         Scraped Time  \n",
       "799995            False          False  2021-06-16 02:47:55  \n",
       "799996            False          False  2021-06-16 02:47:55  \n",
       "799997             True          False  2021-06-16 02:47:55  \n",
       "799998            False          False  2021-06-16 02:47:55  \n",
       "799999            False          False  2021-06-16 09:11:58  \n",
       "\n",
       "[5 rows x 24 columns]"
      ]
     },
     "execution_count": 365,
     "metadata": {},
     "output_type": "execute_result"
    }
   ],
   "source": [
    "df2.tail(5)"
   ]
  },
  {
   "cell_type": "code",
   "execution_count": 366,
   "id": "91e72fd2-2687-4aba-a91a-eb8e8bc19d8c",
   "metadata": {},
   "outputs": [
    {
     "data": {
      "text/html": [
       "<div>\n",
       "<style scoped>\n",
       "    .dataframe tbody tr th:only-of-type {\n",
       "        vertical-align: middle;\n",
       "    }\n",
       "\n",
       "    .dataframe tbody tr th {\n",
       "        vertical-align: top;\n",
       "    }\n",
       "\n",
       "    .dataframe thead th {\n",
       "        text-align: right;\n",
       "    }\n",
       "</style>\n",
       "<table border=\"1\" class=\"dataframe\">\n",
       "  <thead>\n",
       "    <tr style=\"text-align: right;\">\n",
       "      <th></th>\n",
       "      <th>App Name</th>\n",
       "      <th>App Id</th>\n",
       "      <th>Category</th>\n",
       "      <th>Rating</th>\n",
       "      <th>Rating Count</th>\n",
       "      <th>Installs</th>\n",
       "      <th>Minimum Installs</th>\n",
       "      <th>Maximum Installs</th>\n",
       "      <th>Free</th>\n",
       "      <th>Price</th>\n",
       "      <th>...</th>\n",
       "      <th>Developer Website</th>\n",
       "      <th>Developer Email</th>\n",
       "      <th>Released</th>\n",
       "      <th>Last Updated</th>\n",
       "      <th>Content Rating</th>\n",
       "      <th>Privacy Policy</th>\n",
       "      <th>Ad Supported</th>\n",
       "      <th>In App Purchases</th>\n",
       "      <th>Editors Choice</th>\n",
       "      <th>Scraped Time</th>\n",
       "    </tr>\n",
       "  </thead>\n",
       "  <tbody>\n",
       "    <tr>\n",
       "      <th>0</th>\n",
       "      <td>BRINT e-KANTIN | Kantin Digital</td>\n",
       "      <td>com.brint.ekantin</td>\n",
       "      <td>Business</td>\n",
       "      <td>4.8</td>\n",
       "      <td>9.0</td>\n",
       "      <td>50+</td>\n",
       "      <td>50.0</td>\n",
       "      <td>65</td>\n",
       "      <td>True</td>\n",
       "      <td>0.0</td>\n",
       "      <td>...</td>\n",
       "      <td>https://brint.id</td>\n",
       "      <td>hello.brint@gmail.com</td>\n",
       "      <td>Dec 23, 2020</td>\n",
       "      <td>Dec 25, 2020</td>\n",
       "      <td>Everyone</td>\n",
       "      <td>http://brint.id/ekantin/privacy.html</td>\n",
       "      <td>False</td>\n",
       "      <td>False</td>\n",
       "      <td>False</td>\n",
       "      <td>2021-06-16 02:47:55</td>\n",
       "    </tr>\n",
       "    <tr>\n",
       "      <th>1</th>\n",
       "      <td>Garden Photo Frame</td>\n",
       "      <td>app.tocus.photoframe.gardenphotoframe</td>\n",
       "      <td>Photography</td>\n",
       "      <td>4.4</td>\n",
       "      <td>346.0</td>\n",
       "      <td>100,000+</td>\n",
       "      <td>100000.0</td>\n",
       "      <td>170906</td>\n",
       "      <td>True</td>\n",
       "      <td>0.0</td>\n",
       "      <td>...</td>\n",
       "      <td>https://tocusinfotech.com</td>\n",
       "      <td>tocus.app@gmail.com</td>\n",
       "      <td>Jul 11, 2016</td>\n",
       "      <td>May 26, 2021</td>\n",
       "      <td>Everyone</td>\n",
       "      <td>https://sites.google.com/view/tocusapp</td>\n",
       "      <td>True</td>\n",
       "      <td>False</td>\n",
       "      <td>False</td>\n",
       "      <td>2021-06-16 02:47:55</td>\n",
       "    </tr>\n",
       "    <tr>\n",
       "      <th>2</th>\n",
       "      <td>Servicefokuz</td>\n",
       "      <td>com.skyislimit.servicefokuz</td>\n",
       "      <td>Productivity</td>\n",
       "      <td>0.0</td>\n",
       "      <td>0.0</td>\n",
       "      <td>5+</td>\n",
       "      <td>5.0</td>\n",
       "      <td>7</td>\n",
       "      <td>True</td>\n",
       "      <td>0.0</td>\n",
       "      <td>...</td>\n",
       "      <td>https://salesfokuz.com</td>\n",
       "      <td>salesfokuzdeveloper@gmail.com</td>\n",
       "      <td>Mar 5, 2021</td>\n",
       "      <td>May 07, 2021</td>\n",
       "      <td>Everyone</td>\n",
       "      <td>https://salesfokuz.com/terms-services</td>\n",
       "      <td>False</td>\n",
       "      <td>False</td>\n",
       "      <td>False</td>\n",
       "      <td>2021-06-16 02:47:55</td>\n",
       "    </tr>\n",
       "    <tr>\n",
       "      <th>3</th>\n",
       "      <td>Guaracoop Radio Taxi</td>\n",
       "      <td>net.taxidigital.guaracoop</td>\n",
       "      <td>Maps &amp; Navigation</td>\n",
       "      <td>4.1</td>\n",
       "      <td>7.0</td>\n",
       "      <td>500+</td>\n",
       "      <td>500.0</td>\n",
       "      <td>867</td>\n",
       "      <td>True</td>\n",
       "      <td>0.0</td>\n",
       "      <td>...</td>\n",
       "      <td>http://taxidigital.net</td>\n",
       "      <td>taxidevice@gmail.com</td>\n",
       "      <td>NaN</td>\n",
       "      <td>Aug 17, 2020</td>\n",
       "      <td>Everyone</td>\n",
       "      <td>https://portal.taxidigital.net/TaxiDigital/por...</td>\n",
       "      <td>False</td>\n",
       "      <td>False</td>\n",
       "      <td>False</td>\n",
       "      <td>2021-06-16 02:47:55</td>\n",
       "    </tr>\n",
       "    <tr>\n",
       "      <th>4</th>\n",
       "      <td>DEV10 - PDV</td>\n",
       "      <td>br.com.pedidos10.pdv</td>\n",
       "      <td>Business</td>\n",
       "      <td>0.0</td>\n",
       "      <td>0.0</td>\n",
       "      <td>1,000+</td>\n",
       "      <td>1000.0</td>\n",
       "      <td>1605</td>\n",
       "      <td>True</td>\n",
       "      <td>0.0</td>\n",
       "      <td>...</td>\n",
       "      <td>http://www.pedidos10.com.br</td>\n",
       "      <td>contato@pedidos10.com.br</td>\n",
       "      <td>NaN</td>\n",
       "      <td>Sep 23, 2020</td>\n",
       "      <td>Everyone</td>\n",
       "      <td>https://www.pedidos10.com.br/termo-condicoes.html</td>\n",
       "      <td>False</td>\n",
       "      <td>False</td>\n",
       "      <td>False</td>\n",
       "      <td>2021-06-16 02:47:55</td>\n",
       "    </tr>\n",
       "  </tbody>\n",
       "</table>\n",
       "<p>5 rows × 24 columns</p>\n",
       "</div>"
      ],
      "text/plain": [
       "                          App Name                                 App Id  \\\n",
       "0  BRINT e-KANTIN | Kantin Digital                      com.brint.ekantin   \n",
       "1               Garden Photo Frame  app.tocus.photoframe.gardenphotoframe   \n",
       "2                     Servicefokuz            com.skyislimit.servicefokuz   \n",
       "3             Guaracoop Radio Taxi              net.taxidigital.guaracoop   \n",
       "4                      DEV10 - PDV                   br.com.pedidos10.pdv   \n",
       "\n",
       "            Category  Rating  Rating Count  Installs  Minimum Installs  \\\n",
       "0           Business     4.8           9.0       50+              50.0   \n",
       "1        Photography     4.4         346.0  100,000+          100000.0   \n",
       "2       Productivity     0.0           0.0        5+               5.0   \n",
       "3  Maps & Navigation     4.1           7.0      500+             500.0   \n",
       "4           Business     0.0           0.0    1,000+            1000.0   \n",
       "\n",
       "   Maximum Installs  Free  Price  ...            Developer Website  \\\n",
       "0                65  True    0.0  ...             https://brint.id   \n",
       "1            170906  True    0.0  ...    https://tocusinfotech.com   \n",
       "2                 7  True    0.0  ...       https://salesfokuz.com   \n",
       "3               867  True    0.0  ...       http://taxidigital.net   \n",
       "4              1605  True    0.0  ...  http://www.pedidos10.com.br   \n",
       "\n",
       "                 Developer Email      Released  Last Updated Content Rating  \\\n",
       "0          hello.brint@gmail.com  Dec 23, 2020  Dec 25, 2020       Everyone   \n",
       "1            tocus.app@gmail.com  Jul 11, 2016  May 26, 2021       Everyone   \n",
       "2  salesfokuzdeveloper@gmail.com   Mar 5, 2021  May 07, 2021       Everyone   \n",
       "3           taxidevice@gmail.com           NaN  Aug 17, 2020       Everyone   \n",
       "4       contato@pedidos10.com.br           NaN  Sep 23, 2020       Everyone   \n",
       "\n",
       "                                      Privacy Policy Ad Supported  \\\n",
       "0               http://brint.id/ekantin/privacy.html        False   \n",
       "1             https://sites.google.com/view/tocusapp         True   \n",
       "2              https://salesfokuz.com/terms-services        False   \n",
       "3  https://portal.taxidigital.net/TaxiDigital/por...        False   \n",
       "4  https://www.pedidos10.com.br/termo-condicoes.html        False   \n",
       "\n",
       "  In App Purchases Editors Choice         Scraped Time  \n",
       "0            False          False  2021-06-16 02:47:55  \n",
       "1            False          False  2021-06-16 02:47:55  \n",
       "2            False          False  2021-06-16 02:47:55  \n",
       "3            False          False  2021-06-16 02:47:55  \n",
       "4            False          False  2021-06-16 02:47:55  \n",
       "\n",
       "[5 rows x 24 columns]"
      ]
     },
     "execution_count": 366,
     "metadata": {},
     "output_type": "execute_result"
    }
   ],
   "source": [
    "df3.head(5)"
   ]
  },
  {
   "cell_type": "code",
   "execution_count": 367,
   "id": "37c8b595-5d35-486d-b2ca-c3acb0e8cfd8",
   "metadata": {},
   "outputs": [
    {
     "data": {
      "text/plain": [
       "((799999, 24), (800000, 24), (712945, 24))"
      ]
     },
     "execution_count": 367,
     "metadata": {},
     "output_type": "execute_result"
    }
   ],
   "source": [
    "(df1.shape, df2.shape, df3.shape)"
   ]
  },
  {
   "cell_type": "code",
   "execution_count": 368,
   "id": "a31b58de-5ffc-41b7-b568-74e28cdf01b9",
   "metadata": {},
   "outputs": [
    {
     "data": {
      "text/plain": [
       "(2312944, 24)"
      ]
     },
     "execution_count": 368,
     "metadata": {},
     "output_type": "execute_result"
    }
   ],
   "source": [
    "# concating these datasets\n",
    "df = pd.concat([df1, df2, df3])\n",
    "df.shape"
   ]
  },
  {
   "cell_type": "code",
   "execution_count": 369,
   "id": "683a4a6c-02f2-48e2-bf54-d8e75549b4cd",
   "metadata": {},
   "outputs": [
    {
     "name": "stdout",
     "output_type": "stream",
     "text": [
      "<class 'pandas.core.frame.DataFrame'>\n",
      "Index: 2312944 entries, 0 to 712944\n",
      "Data columns (total 24 columns):\n",
      " #   Column             Dtype  \n",
      "---  ------             -----  \n",
      " 0   App Name           object \n",
      " 1   App Id             object \n",
      " 2   Category           object \n",
      " 3   Rating             float64\n",
      " 4   Rating Count       float64\n",
      " 5   Installs           object \n",
      " 6   Minimum Installs   float64\n",
      " 7   Maximum Installs   int64  \n",
      " 8   Free               bool   \n",
      " 9   Price              float64\n",
      " 10  Currency           object \n",
      " 11  Size               object \n",
      " 12  Minimum Android    object \n",
      " 13  Developer Id       object \n",
      " 14  Developer Website  object \n",
      " 15  Developer Email    object \n",
      " 16  Released           object \n",
      " 17  Last Updated       object \n",
      " 18  Content Rating     object \n",
      " 19  Privacy Policy     object \n",
      " 20  Ad Supported       bool   \n",
      " 21  In App Purchases   bool   \n",
      " 22  Editors Choice     bool   \n",
      " 23  Scraped Time       object \n",
      "dtypes: bool(4), float64(4), int64(1), object(15)\n",
      "memory usage: 379.4+ MB\n"
     ]
    }
   ],
   "source": [
    "df.info()"
   ]
  },
  {
   "cell_type": "markdown",
   "id": "7ca2c41a-2584-43ea-b1b3-23ec4b5cb4c6",
   "metadata": {},
   "source": [
    "####"
   ]
  },
  {
   "cell_type": "markdown",
   "id": "b730266c-c67a-40cf-aace-3ef4442db3a1",
   "metadata": {},
   "source": [
    "#### Taking only required columns"
   ]
  },
  {
   "cell_type": "code",
   "execution_count": 370,
   "id": "19b438da-2cf0-400f-8f5b-0aa133ab9183",
   "metadata": {},
   "outputs": [],
   "source": [
    "# Drop rows with missing values in the specified columns\n",
    "df = df[[\"App Name\", \"Category\", \"Rating\", \"Rating Count\", \"Maximum Installs\", \"Free\", \"Price\", \"Size\",\n",
    "        \"Developer Id\", \"Released\", \"Content Rating\", \"Editors Choice\", \"Ad Supported\"]]"
   ]
  },
  {
   "cell_type": "code",
   "execution_count": 371,
   "id": "3d2e8f69-95a7-48d7-9099-e8730f78e7ed",
   "metadata": {},
   "outputs": [
    {
     "data": {
      "text/html": [
       "<div>\n",
       "<style scoped>\n",
       "    .dataframe tbody tr th:only-of-type {\n",
       "        vertical-align: middle;\n",
       "    }\n",
       "\n",
       "    .dataframe tbody tr th {\n",
       "        vertical-align: top;\n",
       "    }\n",
       "\n",
       "    .dataframe thead th {\n",
       "        text-align: right;\n",
       "    }\n",
       "</style>\n",
       "<table border=\"1\" class=\"dataframe\">\n",
       "  <thead>\n",
       "    <tr style=\"text-align: right;\">\n",
       "      <th></th>\n",
       "      <th>App Name</th>\n",
       "      <th>Category</th>\n",
       "      <th>Rating</th>\n",
       "      <th>Rating Count</th>\n",
       "      <th>Maximum Installs</th>\n",
       "      <th>Free</th>\n",
       "      <th>Price</th>\n",
       "      <th>Size</th>\n",
       "      <th>Developer Id</th>\n",
       "      <th>Released</th>\n",
       "      <th>Content Rating</th>\n",
       "      <th>Editors Choice</th>\n",
       "      <th>Ad Supported</th>\n",
       "    </tr>\n",
       "  </thead>\n",
       "  <tbody>\n",
       "    <tr>\n",
       "      <th>399642</th>\n",
       "      <td>Advanced EMI Calculator</td>\n",
       "      <td>Finance</td>\n",
       "      <td>4.5</td>\n",
       "      <td>97.0</td>\n",
       "      <td>22093</td>\n",
       "      <td>True</td>\n",
       "      <td>0.0</td>\n",
       "      <td>717k</td>\n",
       "      <td>Rohith SP</td>\n",
       "      <td>Jul 11, 2014</td>\n",
       "      <td>Everyone</td>\n",
       "      <td>False</td>\n",
       "      <td>False</td>\n",
       "    </tr>\n",
       "    <tr>\n",
       "      <th>83887</th>\n",
       "      <td>Paella Calculator</td>\n",
       "      <td>Food &amp; Drink</td>\n",
       "      <td>4.0</td>\n",
       "      <td>9.0</td>\n",
       "      <td>365</td>\n",
       "      <td>True</td>\n",
       "      <td>0.0</td>\n",
       "      <td>7.3M</td>\n",
       "      <td>Jose Perez Lopez</td>\n",
       "      <td>May 19, 2017</td>\n",
       "      <td>Everyone</td>\n",
       "      <td>False</td>\n",
       "      <td>False</td>\n",
       "    </tr>\n",
       "    <tr>\n",
       "      <th>78926</th>\n",
       "      <td>Space Racers!</td>\n",
       "      <td>Casual</td>\n",
       "      <td>4.2</td>\n",
       "      <td>403.0</td>\n",
       "      <td>184514</td>\n",
       "      <td>True</td>\n",
       "      <td>0.0</td>\n",
       "      <td>49M</td>\n",
       "      <td>Space Race, LLC</td>\n",
       "      <td>Nov 19, 2014</td>\n",
       "      <td>Everyone</td>\n",
       "      <td>False</td>\n",
       "      <td>False</td>\n",
       "    </tr>\n",
       "    <tr>\n",
       "      <th>605664</th>\n",
       "      <td>Funny stories</td>\n",
       "      <td>Entertainment</td>\n",
       "      <td>3.5</td>\n",
       "      <td>84.0</td>\n",
       "      <td>8819</td>\n",
       "      <td>True</td>\n",
       "      <td>0.0</td>\n",
       "      <td>20M</td>\n",
       "      <td>JFJ Software</td>\n",
       "      <td>Sep 23, 2013</td>\n",
       "      <td>Mature 17+</td>\n",
       "      <td>False</td>\n",
       "      <td>True</td>\n",
       "    </tr>\n",
       "    <tr>\n",
       "      <th>651453</th>\n",
       "      <td>Shiksha Khaber Web</td>\n",
       "      <td>News &amp; Magazines</td>\n",
       "      <td>4.6</td>\n",
       "      <td>22.0</td>\n",
       "      <td>4565</td>\n",
       "      <td>True</td>\n",
       "      <td>0.0</td>\n",
       "      <td>10M</td>\n",
       "      <td>BSN MEDIA</td>\n",
       "      <td>Nov 7, 2017</td>\n",
       "      <td>Everyone</td>\n",
       "      <td>False</td>\n",
       "      <td>True</td>\n",
       "    </tr>\n",
       "  </tbody>\n",
       "</table>\n",
       "</div>"
      ],
      "text/plain": [
       "                       App Name          Category  Rating  Rating Count  \\\n",
       "399642  Advanced EMI Calculator           Finance     4.5          97.0   \n",
       "83887         Paella Calculator      Food & Drink     4.0           9.0   \n",
       "78926             Space Racers!            Casual     4.2         403.0   \n",
       "605664            Funny stories     Entertainment     3.5          84.0   \n",
       "651453       Shiksha Khaber Web  News & Magazines     4.6          22.0   \n",
       "\n",
       "        Maximum Installs  Free  Price  Size      Developer Id      Released  \\\n",
       "399642             22093  True    0.0  717k         Rohith SP  Jul 11, 2014   \n",
       "83887                365  True    0.0  7.3M  Jose Perez Lopez  May 19, 2017   \n",
       "78926             184514  True    0.0   49M   Space Race, LLC  Nov 19, 2014   \n",
       "605664              8819  True    0.0   20M      JFJ Software  Sep 23, 2013   \n",
       "651453              4565  True    0.0   10M         BSN MEDIA   Nov 7, 2017   \n",
       "\n",
       "       Content Rating  Editors Choice  Ad Supported  \n",
       "399642       Everyone           False         False  \n",
       "83887        Everyone           False         False  \n",
       "78926        Everyone           False         False  \n",
       "605664     Mature 17+           False          True  \n",
       "651453       Everyone           False          True  "
      ]
     },
     "execution_count": 371,
     "metadata": {},
     "output_type": "execute_result"
    }
   ],
   "source": [
    "df.sample(5)"
   ]
  },
  {
   "cell_type": "markdown",
   "id": "4f5c0e93-c940-4858-a286-91fd8596b291",
   "metadata": {},
   "source": [
    "####"
   ]
  },
  {
   "cell_type": "markdown",
   "id": "50e28fbd-b5b9-4508-b867-d7925382ef10",
   "metadata": {},
   "source": [
    "### Data Cleansing"
   ]
  },
  {
   "cell_type": "code",
   "execution_count": 372,
   "id": "85d8e353-2b13-47e3-bb4e-439dd426656b",
   "metadata": {},
   "outputs": [
    {
     "data": {
      "text/plain": [
       "App Name                5\n",
       "Category                0\n",
       "Rating              22883\n",
       "Rating Count        22883\n",
       "Maximum Installs        0\n",
       "Free                    0\n",
       "Price                   0\n",
       "Size                  196\n",
       "Developer Id           33\n",
       "Released            71053\n",
       "Content Rating          0\n",
       "Editors Choice          0\n",
       "Ad Supported            0\n",
       "dtype: int64"
      ]
     },
     "execution_count": 372,
     "metadata": {},
     "output_type": "execute_result"
    }
   ],
   "source": [
    "df.isnull().sum()"
   ]
  },
  {
   "cell_type": "code",
   "execution_count": 373,
   "id": "3c8becbc-33b2-45dd-b8a8-0e7549bbdb65",
   "metadata": {},
   "outputs": [
    {
     "data": {
      "text/plain": [
       "(2312944, 13)"
      ]
     },
     "execution_count": 373,
     "metadata": {},
     "output_type": "execute_result"
    }
   ],
   "source": [
    "df.drop_duplicates()\n",
    "df.shape"
   ]
  },
  {
   "cell_type": "markdown",
   "id": "2a342c5f-8891-4286-8b56-89e5d32094a3",
   "metadata": {},
   "source": [
    "No Duplicate Rows in Dataset"
   ]
  },
  {
   "cell_type": "markdown",
   "id": "c46fc649-8ff7-47f1-8f0d-1256df9cd6f4",
   "metadata": {},
   "source": [
    "####"
   ]
  },
  {
   "cell_type": "markdown",
   "id": "de390dc4-94f1-4213-8be6-88e69a603cfd",
   "metadata": {},
   "source": [
    "#### App Name"
   ]
  },
  {
   "cell_type": "code",
   "execution_count": 374,
   "id": "e77e5eca-12dc-4ee9-80b3-feb9f972fe79",
   "metadata": {},
   "outputs": [],
   "source": [
    "df.dropna(subset=[\"App Name\"], inplace=True)"
   ]
  },
  {
   "cell_type": "markdown",
   "id": "9fac79e7-e47f-494a-b9fe-7530580cbb08",
   "metadata": {},
   "source": [
    "####"
   ]
  },
  {
   "cell_type": "markdown",
   "id": "a7e779c2-c556-4cbf-8853-20c6481389da",
   "metadata": {},
   "source": [
    "#### Category"
   ]
  },
  {
   "cell_type": "code",
   "execution_count": 375,
   "id": "7aaefa09-0d2e-4d92-b950-3f9b3e5f07b4",
   "metadata": {},
   "outputs": [
    {
     "data": {
      "text/plain": [
       "array(['Adventure', 'Tools', 'Productivity', 'Communication', 'Social',\n",
       "       'Libraries & Demo', 'Lifestyle', 'Personalization', 'Racing',\n",
       "       'Maps & Navigation', 'Travel & Local', 'Food & Drink',\n",
       "       'Books & Reference', 'Medical', 'Puzzle', 'Entertainment',\n",
       "       'Arcade', 'Auto & Vehicles', 'Photography', 'Health & Fitness',\n",
       "       'Education', 'Shopping', 'Board', 'Music & Audio', 'Sports',\n",
       "       'Beauty', 'Business', 'Educational', 'Finance', 'News & Magazines',\n",
       "       'Casual', 'Art & Design', 'House & Home', 'Card', 'Events',\n",
       "       'Trivia', 'Weather', 'Strategy', 'Word', 'Video Players & Editors',\n",
       "       'Action', 'Simulation', 'Music', 'Dating', 'Role Playing',\n",
       "       'Casino', 'Comics', 'Parenting'], dtype=object)"
      ]
     },
     "execution_count": 375,
     "metadata": {},
     "output_type": "execute_result"
    }
   ],
   "source": [
    "df[\"Category\"].unique()"
   ]
  },
  {
   "cell_type": "code",
   "execution_count": 376,
   "id": "62d6b937-92e5-4e16-8657-a8f4a57f9d46",
   "metadata": {},
   "outputs": [
    {
     "data": {
      "text/plain": [
       "48"
      ]
     },
     "execution_count": 376,
     "metadata": {},
     "output_type": "execute_result"
    }
   ],
   "source": [
    "df[\"Category\"].nunique()   "
   ]
  },
  {
   "cell_type": "markdown",
   "id": "61042201-32f5-4b3f-8b1b-0fcd9cf16d46",
   "metadata": {},
   "source": [
    "####"
   ]
  },
  {
   "cell_type": "markdown",
   "id": "64634954-9c4a-4729-932c-ea7ac8d063e4",
   "metadata": {},
   "source": [
    "#### Rating"
   ]
  },
  {
   "cell_type": "code",
   "execution_count": 377,
   "id": "7088f04e-394f-4952-85a4-0829229bbb65",
   "metadata": {},
   "outputs": [
    {
     "data": {
      "image/png": "[encoded data removed]",
      "text/plain": [
       "<Figure size 640x480 with 1 Axes>"
      ]
     },
     "metadata": {},
     "output_type": "display_data"
    }
   ],
   "source": [
    "# ploting KDE graph for getting distribution of rating in dataset\n",
    "\n",
    "sns.kdeplot(df['Rating'])\n",
    "\n",
    "# Add labels and title\n",
    "plt.xlabel('Rating')\n",
    "plt.ylabel('Density')\n",
    "plt.title('Kernel Density Estimate (KDE) for Rating Column')\n",
    "\n",
    "# Show the plot\n",
    "plt.show()"
   ]
  },
  {
   "cell_type": "markdown",
   "id": "ed358643-620e-4763-9c1a-c19571475d82",
   "metadata": {},
   "source": [
    "The data is not normally distributed, so we can't impute mean value for missing data,\n",
    "will use **medain** instead of mean."
   ]
  },
  {
   "cell_type": "code",
   "execution_count": 378,
   "id": "48067fd7-9f76-43ca-9b22-ce5045f45c8b",
   "metadata": {},
   "outputs": [
    {
     "data": {
      "text/plain": [
       "2.9"
      ]
     },
     "execution_count": 378,
     "metadata": {},
     "output_type": "execute_result"
    }
   ],
   "source": [
    "median_rating = df[\"Rating\"].median()\n",
    "median_rating"
   ]
  },
  {
   "cell_type": "code",
   "execution_count": 379,
   "id": "f13159b2-fe4e-43ee-898a-c2970de3de4f",
   "metadata": {},
   "outputs": [],
   "source": [
    "df[\"Rating\"] = df[\"Rating\"].fillna(median_rating)"
   ]
  },
  {
   "cell_type": "code",
   "execution_count": 380,
   "id": "9f26fc32-9781-4fd3-9cc2-008a49e6d337",
   "metadata": {},
   "outputs": [
    {
     "data": {
      "text/plain": [
       "Rating\n",
       "0.0    1059762\n",
       "5.0     100122\n",
       "4.2      87993\n",
       "4.4      86304\n",
       "4.3      83275\n",
       "4.6      78300\n",
       "4.5      76753\n",
       "4.1      69722\n",
       "4.0      67342\n",
       "4.7      62205\n",
       "4.8      61109\n",
       "3.9      55684\n",
       "3.8      53863\n",
       "4.9      44524\n",
       "3.7      43300\n",
       "3.6      35989\n",
       "2.9      34405\n",
       "3.5      31636\n",
       "3.4      28908\n",
       "3.3      22613\n",
       "3.2      21485\n",
       "3.0      17275\n",
       "3.1      15539\n",
       "2.8      12235\n",
       "2.6       9213\n",
       "2.7       9200\n",
       "2.5       6942\n",
       "2.4       6050\n",
       "2.3       5414\n",
       "2.2       4954\n",
       "2.0       3804\n",
       "2.1       3675\n",
       "1.8       2957\n",
       "1.9       2588\n",
       "1.7       1928\n",
       "1.6       1644\n",
       "1.5       1157\n",
       "1.4       1011\n",
       "1.0        713\n",
       "1.3        579\n",
       "1.2        531\n",
       "1.1        236\n",
       "Name: count, dtype: int64"
      ]
     },
     "execution_count": 380,
     "metadata": {},
     "output_type": "execute_result"
    }
   ],
   "source": [
    "df[\"Rating\"].value_counts()"
   ]
  },
  {
   "cell_type": "code",
   "execution_count": 381,
   "id": "3c986f9d-ed72-48aa-965d-ee4132d269ee",
   "metadata": {},
   "outputs": [
    {
     "data": {
      "text/plain": [
       "App Name                0\n",
       "Category                0\n",
       "Rating                  0\n",
       "Rating Count        22883\n",
       "Maximum Installs        0\n",
       "Free                    0\n",
       "Price                   0\n",
       "Size                  196\n",
       "Developer Id           33\n",
       "Released            71053\n",
       "Content Rating          0\n",
       "Editors Choice          0\n",
       "Ad Supported            0\n",
       "dtype: int64"
      ]
     },
     "execution_count": 381,
     "metadata": {},
     "output_type": "execute_result"
    }
   ],
   "source": [
    "df.isnull().sum()"
   ]
  },
  {
   "cell_type": "markdown",
   "id": "b10b3d4c-c9ac-4122-99f9-4360d2d9afa3",
   "metadata": {},
   "source": [
    "####"
   ]
  },
  {
   "cell_type": "markdown",
   "id": "2082c397-4a63-418b-89f4-665d98d389b5",
   "metadata": {},
   "source": [
    "#### Review"
   ]
  },
  {
   "cell_type": "code",
   "execution_count": 382,
   "id": "fdb00431-71f4-493f-a0bd-a8bd319cac8c",
   "metadata": {},
   "outputs": [],
   "source": [
    "df.rename(columns={'Rating Count': 'Reviews'}, inplace=True)"
   ]
  },
  {
   "cell_type": "code",
   "execution_count": 383,
   "id": "bfd2de2e-6903-4a6e-8fff-73a43a434f68",
   "metadata": {},
   "outputs": [
    {
     "data": {
      "image/png": "[encoded data removed]",
      "text/plain": [
       "<Figure size 640x480 with 1 Axes>"
      ]
     },
     "metadata": {},
     "output_type": "display_data"
    }
   ],
   "source": [
    "# ploting KDE graph for getting distribution of reviews in dataset\n",
    "\n",
    "sns.kdeplot(df['Reviews'])\n",
    "\n",
    "# Add labels and title\n",
    "plt.xlabel('Reviews')\n",
    "plt.ylabel('Density')\n",
    "plt.title('Kernel Density Estimate (KDE) for Reviews Column')\n",
    "\n",
    "# Show the plot\n",
    "plt.show()"
   ]
  },
  {
   "cell_type": "markdown",
   "id": "efea0229-844b-4827-a3bb-2d72c7166e11",
   "metadata": {},
   "source": [
    "The data is not normally distributed, so we can't impute mean value for missing data,\n",
    "will use **medain** instead of mean."
   ]
  },
  {
   "cell_type": "code",
   "execution_count": 384,
   "id": "f2acbe00-b20f-44e5-86b3-7ffc3bde0da0",
   "metadata": {},
   "outputs": [
    {
     "data": {
      "text/plain": [
       "6.0"
      ]
     },
     "execution_count": 384,
     "metadata": {},
     "output_type": "execute_result"
    }
   ],
   "source": [
    "median_reviews = df[\"Reviews\"].median()\n",
    "median_reviews"
   ]
  },
  {
   "cell_type": "code",
   "execution_count": 385,
   "id": "facae280-775b-4901-bf56-24b01be0f947",
   "metadata": {},
   "outputs": [],
   "source": [
    "df[\"Reviews\"] = df[\"Reviews\"].fillna(median_reviews)"
   ]
  },
  {
   "cell_type": "code",
   "execution_count": 386,
   "id": "6fa1d114-ed94-4a59-b6ed-dbd3ec5eba41",
   "metadata": {},
   "outputs": [
    {
     "data": {
      "text/plain": [
       "Reviews\n",
       "0.0          1059762\n",
       "6.0            77207\n",
       "5.0            64287\n",
       "7.0            46838\n",
       "8.0            40585\n",
       "              ...   \n",
       "9028.0             1\n",
       "27999.0            1\n",
       "1271735.0          1\n",
       "29786.0            1\n",
       "78351.0            1\n",
       "Name: count, Length: 38482, dtype: int64"
      ]
     },
     "execution_count": 386,
     "metadata": {},
     "output_type": "execute_result"
    }
   ],
   "source": [
    "df['Reviews'].value_counts()"
   ]
  },
  {
   "cell_type": "code",
   "execution_count": 387,
   "id": "fc332bda-cb10-4283-ae0a-bc23c456faf6",
   "metadata": {},
   "outputs": [],
   "source": [
    "df[\"Reviews\"] = df[\"Reviews\"].astype(int)"
   ]
  },
  {
   "cell_type": "markdown",
   "id": "f485e70f-a63a-488b-9381-7e3d36fb790e",
   "metadata": {},
   "source": [
    "####"
   ]
  },
  {
   "cell_type": "markdown",
   "id": "c0e40d9f-e05f-420e-ba67-3cf162809ea0",
   "metadata": {},
   "source": [
    "#### Installs"
   ]
  },
  {
   "cell_type": "code",
   "execution_count": 388,
   "id": "92a15198-928f-444f-ba27-70f6fda61c0a",
   "metadata": {},
   "outputs": [],
   "source": [
    "df = df.rename(columns={'Maximum Installs': 'Installs'})"
   ]
  },
  {
   "cell_type": "code",
   "execution_count": 389,
   "id": "f3f2df3e-07dd-4b9f-bf5d-466979c835de",
   "metadata": {},
   "outputs": [
    {
     "data": {
      "text/html": [
       "<div>\n",
       "<style scoped>\n",
       "    .dataframe tbody tr th:only-of-type {\n",
       "        vertical-align: middle;\n",
       "    }\n",
       "\n",
       "    .dataframe tbody tr th {\n",
       "        vertical-align: top;\n",
       "    }\n",
       "\n",
       "    .dataframe thead th {\n",
       "        text-align: right;\n",
       "    }\n",
       "</style>\n",
       "<table border=\"1\" class=\"dataframe\">\n",
       "  <thead>\n",
       "    <tr style=\"text-align: right;\">\n",
       "      <th></th>\n",
       "      <th>App Name</th>\n",
       "      <th>Category</th>\n",
       "      <th>Rating</th>\n",
       "      <th>Reviews</th>\n",
       "      <th>Installs</th>\n",
       "      <th>Free</th>\n",
       "      <th>Price</th>\n",
       "      <th>Size</th>\n",
       "      <th>Developer Id</th>\n",
       "      <th>Released</th>\n",
       "      <th>Content Rating</th>\n",
       "      <th>Editors Choice</th>\n",
       "      <th>Ad Supported</th>\n",
       "    </tr>\n",
       "  </thead>\n",
       "  <tbody>\n",
       "    <tr>\n",
       "      <th>208834</th>\n",
       "      <td>Country Ringtones Free Music</td>\n",
       "      <td>Music &amp; Audio</td>\n",
       "      <td>3.5</td>\n",
       "      <td>106</td>\n",
       "      <td>70045</td>\n",
       "      <td>True</td>\n",
       "      <td>0.0</td>\n",
       "      <td>11M</td>\n",
       "      <td>Xtreme Stereo Media™</td>\n",
       "      <td>Jun 8, 2017</td>\n",
       "      <td>Everyone</td>\n",
       "      <td>False</td>\n",
       "      <td>True</td>\n",
       "    </tr>\n",
       "    <tr>\n",
       "      <th>489271</th>\n",
       "      <td>Schanzen Asia</td>\n",
       "      <td>Food &amp; Drink</td>\n",
       "      <td>0.0</td>\n",
       "      <td>0</td>\n",
       "      <td>80</td>\n",
       "      <td>True</td>\n",
       "      <td>0.0</td>\n",
       "      <td>4.9M</td>\n",
       "      <td>app smart GmbH</td>\n",
       "      <td>Feb 8, 2020</td>\n",
       "      <td>Everyone</td>\n",
       "      <td>False</td>\n",
       "      <td>False</td>\n",
       "    </tr>\n",
       "  </tbody>\n",
       "</table>\n",
       "</div>"
      ],
      "text/plain": [
       "                            App Name       Category  Rating  Reviews  \\\n",
       "208834  Country Ringtones Free Music  Music & Audio     3.5      106   \n",
       "489271                 Schanzen Asia   Food & Drink     0.0        0   \n",
       "\n",
       "        Installs  Free  Price  Size          Developer Id     Released  \\\n",
       "208834     70045  True    0.0   11M  Xtreme Stereo Media™  Jun 8, 2017   \n",
       "489271        80  True    0.0  4.9M        app smart GmbH  Feb 8, 2020   \n",
       "\n",
       "       Content Rating  Editors Choice  Ad Supported  \n",
       "208834       Everyone           False          True  \n",
       "489271       Everyone           False         False  "
      ]
     },
     "execution_count": 389,
     "metadata": {},
     "output_type": "execute_result"
    }
   ],
   "source": [
    "df.sample(2)"
   ]
  },
  {
   "cell_type": "markdown",
   "id": "416fbde5-cfda-4041-864a-c1624c76728e",
   "metadata": {},
   "source": [
    "####"
   ]
  },
  {
   "cell_type": "markdown",
   "id": "20b69722-1be7-44c8-999f-660f9bb274af",
   "metadata": {},
   "source": [
    "#### Free"
   ]
  },
  {
   "cell_type": "code",
   "execution_count": 390,
   "id": "b72e0bf6-b68e-4ee8-96c5-23ebc43a89ac",
   "metadata": {},
   "outputs": [
    {
     "data": {
      "text/plain": [
       "(Free\n",
       " True     2267871\n",
       " False      45068\n",
       " Name: count, dtype: int64,\n",
       " dtype('bool'))"
      ]
     },
     "execution_count": 390,
     "metadata": {},
     "output_type": "execute_result"
    }
   ],
   "source": [
    "df[\"Free\"].value_counts(), df[\"Free\"].dtype"
   ]
  },
  {
   "cell_type": "code",
   "execution_count": 391,
   "id": "abf416a0-a48d-40dd-a64e-c765d77ea7d6",
   "metadata": {},
   "outputs": [
    {
     "name": "stdout",
     "output_type": "stream",
     "text": [
      "<class 'pandas.core.frame.DataFrame'>\n",
      "Index: 2312939 entries, 0 to 712944\n",
      "Data columns (total 13 columns):\n",
      " #   Column          Dtype  \n",
      "---  ------          -----  \n",
      " 0   App Name        object \n",
      " 1   Category        object \n",
      " 2   Rating          float64\n",
      " 3   Reviews         int32  \n",
      " 4   Installs        int64  \n",
      " 5   Free            bool   \n",
      " 6   Price           float64\n",
      " 7   Size            object \n",
      " 8   Developer Id    object \n",
      " 9   Released        object \n",
      " 10  Content Rating  object \n",
      " 11  Editors Choice  bool   \n",
      " 12  Ad Supported    bool   \n",
      "dtypes: bool(3), float64(2), int32(1), int64(1), object(6)\n",
      "memory usage: 191.9+ MB\n"
     ]
    }
   ],
   "source": [
    "df.info()"
   ]
  },
  {
   "cell_type": "markdown",
   "id": "0c4ec712-6bc1-46e6-ba61-c06120cee7d6",
   "metadata": {},
   "source": [
    "#### "
   ]
  },
  {
   "cell_type": "markdown",
   "id": "d833a7a0-a844-4378-8ffd-7c1f42b0a07e",
   "metadata": {},
   "source": [
    "#### Price"
   ]
  },
  {
   "cell_type": "code",
   "execution_count": 392,
   "id": "6eca421e-d499-4fa4-b404-482356201c11",
   "metadata": {},
   "outputs": [
    {
     "data": {
      "text/plain": [
       "Price\n",
       "0.000000     2268006\n",
       "0.990000       11851\n",
       "1.990000        5817\n",
       "2.990000        3921\n",
       "1.490000        3823\n",
       "              ...   \n",
       "8.205856           1\n",
       "1.030097           1\n",
       "13.530000          1\n",
       "3.550000           1\n",
       "18.903596          1\n",
       "Name: count, Length: 1063, dtype: int64"
      ]
     },
     "execution_count": 392,
     "metadata": {},
     "output_type": "execute_result"
    }
   ],
   "source": [
    "df[\"Price\"].value_counts()  # All prices in $"
   ]
  },
  {
   "cell_type": "markdown",
   "id": "d2bf3523-79c5-4755-b901-46aa1a925cea",
   "metadata": {},
   "source": [
    "####"
   ]
  },
  {
   "cell_type": "markdown",
   "id": "c406470b-4d10-42ac-9844-59e6aab14c76",
   "metadata": {},
   "source": [
    "#### Released "
   ]
  },
  {
   "cell_type": "code",
   "execution_count": 393,
   "id": "f2b28f63-62ff-4da9-9788-dfd5447aea78",
   "metadata": {},
   "outputs": [
    {
     "data": {
      "text/plain": [
       "0         Feb 26, 2020\n",
       "1         May 21, 2020\n",
       "2          Aug 9, 2019\n",
       "3         Sep 10, 2018\n",
       "4         Feb 21, 2020\n",
       "              ...     \n",
       "712940    Jan 17, 2018\n",
       "712941    Aug 19, 2018\n",
       "712942     Aug 1, 2016\n",
       "712943     Aug 9, 2019\n",
       "712944    Apr 21, 2020\n",
       "Name: Released, Length: 2312939, dtype: object"
      ]
     },
     "execution_count": 393,
     "metadata": {},
     "output_type": "execute_result"
    }
   ],
   "source": [
    "df[\"Released\"] "
   ]
  },
  {
   "cell_type": "code",
   "execution_count": 394,
   "id": "2c4eb652-29c5-412d-a39b-dcc26fef9ef9",
   "metadata": {},
   "outputs": [],
   "source": [
    "df['Released'] = pd.to_datetime(df['Released'])"
   ]
  },
  {
   "cell_type": "code",
   "execution_count": 395,
   "id": "c96fb7ba-c14b-4503-8679-54c9fb9944de",
   "metadata": {},
   "outputs": [
    {
     "name": "stdout",
     "output_type": "stream",
     "text": [
      "<class 'pandas.core.frame.DataFrame'>\n",
      "Index: 2312939 entries, 0 to 712944\n",
      "Data columns (total 13 columns):\n",
      " #   Column          Dtype         \n",
      "---  ------          -----         \n",
      " 0   App Name        object        \n",
      " 1   Category        object        \n",
      " 2   Rating          float64       \n",
      " 3   Reviews         int32         \n",
      " 4   Installs        int64         \n",
      " 5   Free            bool          \n",
      " 6   Price           float64       \n",
      " 7   Size            object        \n",
      " 8   Developer Id    object        \n",
      " 9   Released        datetime64[ns]\n",
      " 10  Content Rating  object        \n",
      " 11  Editors Choice  bool          \n",
      " 12  Ad Supported    bool          \n",
      "dtypes: bool(3), datetime64[ns](1), float64(2), int32(1), int64(1), object(5)\n",
      "memory usage: 191.9+ MB\n"
     ]
    }
   ],
   "source": [
    "df.info()"
   ]
  },
  {
   "cell_type": "code",
   "execution_count": 396,
   "id": "51180ae0-4f37-4f3f-a0e6-68585ffe53a5",
   "metadata": {},
   "outputs": [],
   "source": [
    "df['Released_Year'] = df['Released'].dt.year"
   ]
  },
  {
   "cell_type": "code",
   "execution_count": 397,
   "id": "edba2a37-fb4b-453a-936a-e796883a1332",
   "metadata": {},
   "outputs": [
    {
     "data": {
      "text/plain": [
       "Released_Year\n",
       "2020.0    544882\n",
       "2019.0    480663\n",
       "2018.0    334566\n",
       "2017.0    259685\n",
       "2021.0    180507\n",
       "2016.0    167112\n",
       "2015.0    115432\n",
       "2014.0     71814\n",
       "2013.0     42476\n",
       "2012.0     25747\n",
       "2011.0     14361\n",
       "2010.0      4641\n",
       "Name: count, dtype: int64"
      ]
     },
     "execution_count": 397,
     "metadata": {},
     "output_type": "execute_result"
    }
   ],
   "source": [
    "df['Released_Year'].value_counts()"
   ]
  },
  {
   "cell_type": "code",
   "execution_count": 398,
   "id": "4716ebd3-7e05-4d89-9396-670e2c760c32",
   "metadata": {},
   "outputs": [
    {
     "data": {
      "text/plain": [
       "2020.0"
      ]
     },
     "execution_count": 398,
     "metadata": {},
     "output_type": "execute_result"
    }
   ],
   "source": [
    "from scipy import stats as st\n",
    "\n",
    "Released_Year_mode = st.mode(df[\"Released_Year\"])\n",
    "Released_Year_mode = Released_Year_mode[0]  # mode used because Released_Year is Categorical Variable\n",
    "Released_Year_mode"
   ]
  },
  {
   "cell_type": "code",
   "execution_count": 399,
   "id": "a0d5ddde-a7a7-4e4f-99e8-78123119d1c7",
   "metadata": {},
   "outputs": [],
   "source": [
    "df['Released_Year'] = df['Released_Year'].fillna(Released_Year_mode)"
   ]
  },
  {
   "cell_type": "code",
   "execution_count": 400,
   "id": "1f9f3e15-aa8d-4dfb-990d-820b8a753c82",
   "metadata": {},
   "outputs": [
    {
     "data": {
      "text/plain": [
       "Released_Year\n",
       "2020.0    615935\n",
       "2019.0    480663\n",
       "2018.0    334566\n",
       "2017.0    259685\n",
       "2021.0    180507\n",
       "2016.0    167112\n",
       "2015.0    115432\n",
       "2014.0     71814\n",
       "2013.0     42476\n",
       "2012.0     25747\n",
       "2011.0     14361\n",
       "2010.0      4641\n",
       "Name: count, dtype: int64"
      ]
     },
     "execution_count": 400,
     "metadata": {},
     "output_type": "execute_result"
    }
   ],
   "source": [
    "df['Released_Year'].value_counts()"
   ]
  },
  {
   "cell_type": "code",
   "execution_count": 401,
   "id": "e4bd5afb-e7d5-42a0-907a-03a1713b0c1f",
   "metadata": {},
   "outputs": [],
   "source": [
    "df.drop([\"Released\"], axis=1, inplace=True)\n",
    "df = df.rename(columns={'Released_Year': 'Released'})"
   ]
  },
  {
   "cell_type": "code",
   "execution_count": 402,
   "id": "3948e8f1-1461-493d-b9e9-e2bc53235a84",
   "metadata": {},
   "outputs": [
    {
     "data": {
      "text/html": [
       "<div>\n",
       "<style scoped>\n",
       "    .dataframe tbody tr th:only-of-type {\n",
       "        vertical-align: middle;\n",
       "    }\n",
       "\n",
       "    .dataframe tbody tr th {\n",
       "        vertical-align: top;\n",
       "    }\n",
       "\n",
       "    .dataframe thead th {\n",
       "        text-align: right;\n",
       "    }\n",
       "</style>\n",
       "<table border=\"1\" class=\"dataframe\">\n",
       "  <thead>\n",
       "    <tr style=\"text-align: right;\">\n",
       "      <th></th>\n",
       "      <th>App Name</th>\n",
       "      <th>Category</th>\n",
       "      <th>Rating</th>\n",
       "      <th>Reviews</th>\n",
       "      <th>Installs</th>\n",
       "      <th>Free</th>\n",
       "      <th>Price</th>\n",
       "      <th>Size</th>\n",
       "      <th>Developer Id</th>\n",
       "      <th>Content Rating</th>\n",
       "      <th>Editors Choice</th>\n",
       "      <th>Ad Supported</th>\n",
       "      <th>Released</th>\n",
       "    </tr>\n",
       "  </thead>\n",
       "  <tbody>\n",
       "    <tr>\n",
       "      <th>367869</th>\n",
       "      <td>Calculadora Uninassau VDC</td>\n",
       "      <td>Tools</td>\n",
       "      <td>3.5</td>\n",
       "      <td>8</td>\n",
       "      <td>1051</td>\n",
       "      <td>True</td>\n",
       "      <td>0.0</td>\n",
       "      <td>7.4M</td>\n",
       "      <td>Kauankas Inc.</td>\n",
       "      <td>Everyone</td>\n",
       "      <td>False</td>\n",
       "      <td>True</td>\n",
       "      <td>2018.0</td>\n",
       "    </tr>\n",
       "  </tbody>\n",
       "</table>\n",
       "</div>"
      ],
      "text/plain": [
       "                         App Name Category  Rating  Reviews  Installs  Free  \\\n",
       "367869  Calculadora Uninassau VDC    Tools     3.5        8      1051  True   \n",
       "\n",
       "        Price  Size   Developer Id Content Rating  Editors Choice  \\\n",
       "367869    0.0  7.4M  Kauankas Inc.       Everyone           False   \n",
       "\n",
       "        Ad Supported  Released  \n",
       "367869          True    2018.0  "
      ]
     },
     "execution_count": 402,
     "metadata": {},
     "output_type": "execute_result"
    }
   ],
   "source": [
    "df.sample()"
   ]
  },
  {
   "cell_type": "code",
   "execution_count": 403,
   "id": "29808b1b-004b-4f59-96ae-29474f4538f1",
   "metadata": {},
   "outputs": [],
   "source": [
    "df[\"Released\"] = df[\"Released\"].astype(int)"
   ]
  },
  {
   "cell_type": "code",
   "execution_count": 404,
   "id": "0282956a-8684-48ba-9c76-9f104fa2c552",
   "metadata": {},
   "outputs": [
    {
     "data": {
      "text/plain": [
       "App Name            0\n",
       "Category            0\n",
       "Rating              0\n",
       "Reviews             0\n",
       "Installs            0\n",
       "Free                0\n",
       "Price               0\n",
       "Size              196\n",
       "Developer Id       33\n",
       "Content Rating      0\n",
       "Editors Choice      0\n",
       "Ad Supported        0\n",
       "Released            0\n",
       "dtype: int64"
      ]
     },
     "execution_count": 404,
     "metadata": {},
     "output_type": "execute_result"
    }
   ],
   "source": [
    "df.isnull().sum()"
   ]
  },
  {
   "cell_type": "markdown",
   "id": "f30bb31b-930f-4480-8603-e394eced3b91",
   "metadata": {},
   "source": [
    "####"
   ]
  },
  {
   "cell_type": "markdown",
   "id": "33cec852-2484-4f28-a3cf-6f480688da6c",
   "metadata": {},
   "source": [
    "#### Developer ID"
   ]
  },
  {
   "cell_type": "code",
   "execution_count": 405,
   "id": "2b0865f2-68c5-473f-a2d3-4b266385c22f",
   "metadata": {},
   "outputs": [
    {
     "data": {
      "text/plain": [
       "array(['Jean Confident Irénée NIYIZIBYOSE', 'Webserveis', 'Cabin Crew',\n",
       "       ..., 'GOKarli e.K.', 'Eventi',\n",
       "       'Simplus Financial Consultancy Private Limited'], dtype=object)"
      ]
     },
     "execution_count": 405,
     "metadata": {},
     "output_type": "execute_result"
    }
   ],
   "source": [
    "df['Developer Id'].unique()"
   ]
  },
  {
   "cell_type": "code",
   "execution_count": 406,
   "id": "bd6b5194-d6e1-4e7c-87d0-bcd83cf4d686",
   "metadata": {},
   "outputs": [],
   "source": [
    "df['Developer Id'] = df['Developer Id'].fillna('Unknown Developer')"
   ]
  },
  {
   "cell_type": "code",
   "execution_count": 407,
   "id": "29d2f95a-6519-4f75-ab95-6c89e951e75a",
   "metadata": {},
   "outputs": [
    {
     "data": {
      "text/plain": [
       "App Name            0\n",
       "Category            0\n",
       "Rating              0\n",
       "Reviews             0\n",
       "Installs            0\n",
       "Free                0\n",
       "Price               0\n",
       "Size              196\n",
       "Developer Id        0\n",
       "Content Rating      0\n",
       "Editors Choice      0\n",
       "Ad Supported        0\n",
       "Released            0\n",
       "dtype: int64"
      ]
     },
     "execution_count": 407,
     "metadata": {},
     "output_type": "execute_result"
    }
   ],
   "source": [
    "df.isnull().sum()"
   ]
  },
  {
   "cell_type": "markdown",
   "id": "4b545ba3-459b-44a0-9882-f75e3e997700",
   "metadata": {},
   "source": [
    "####"
   ]
  },
  {
   "cell_type": "markdown",
   "id": "f4e9bde3-8192-48c2-877e-2dc32268eb5d",
   "metadata": {},
   "source": [
    "#### Removing rest Columns Missing Data"
   ]
  },
  {
   "cell_type": "code",
   "execution_count": 408,
   "id": "f180b300-4f45-4741-b4e2-1478f1deb839",
   "metadata": {},
   "outputs": [],
   "source": [
    "df.dropna(inplace=True)"
   ]
  },
  {
   "cell_type": "code",
   "execution_count": 409,
   "id": "43a0ee4f-1c2a-44f4-8716-84ae91b75fdd",
   "metadata": {},
   "outputs": [
    {
     "data": {
      "text/plain": [
       "App Name          0\n",
       "Category          0\n",
       "Rating            0\n",
       "Reviews           0\n",
       "Installs          0\n",
       "Free              0\n",
       "Price             0\n",
       "Size              0\n",
       "Developer Id      0\n",
       "Content Rating    0\n",
       "Editors Choice    0\n",
       "Ad Supported      0\n",
       "Released          0\n",
       "dtype: int64"
      ]
     },
     "execution_count": 409,
     "metadata": {},
     "output_type": "execute_result"
    }
   ],
   "source": [
    "df.isnull().sum()"
   ]
  },
  {
   "cell_type": "markdown",
   "id": "ed328a6f-b297-4bee-881b-5620436fd679",
   "metadata": {},
   "source": [
    "####"
   ]
  },
  {
   "cell_type": "markdown",
   "id": "11c01269-e77d-46f8-ab46-ad9d75b77707",
   "metadata": {},
   "source": [
    "#### Size"
   ]
  },
  {
   "cell_type": "code",
   "execution_count": 410,
   "id": "8ad1cf80-7447-4830-8e48-ea4eed148ad1",
   "metadata": {},
   "outputs": [
    {
     "data": {
      "text/plain": [
       "0          10M\n",
       "1         2.9M\n",
       "2         3.7M\n",
       "3         1.8M\n",
       "4         6.2M\n",
       "          ... \n",
       "712940     44M\n",
       "712941     29M\n",
       "712942     10M\n",
       "712943    5.2M\n",
       "712944     12M\n",
       "Name: Size, Length: 2312743, dtype: object"
      ]
     },
     "execution_count": 410,
     "metadata": {},
     "output_type": "execute_result"
    }
   ],
   "source": [
    "df['Size']"
   ]
  },
  {
   "cell_type": "code",
   "execution_count": 411,
   "id": "4e33de13-6758-4bc3-84cb-ae89abb87e86",
   "metadata": {},
   "outputs": [
    {
     "data": {
      "text/plain": [
       "2201701"
      ]
     },
     "execution_count": 411,
     "metadata": {},
     "output_type": "execute_result"
    }
   ],
   "source": [
    "df['Size'].loc[df['Size'].str.contains('M')].value_counts().sum()"
   ]
  },
  {
   "cell_type": "code",
   "execution_count": 412,
   "id": "1767fa6d-bc87-40c3-b6b2-e0bc506daafd",
   "metadata": {},
   "outputs": [
    {
     "data": {
      "text/plain": [
       "36252"
      ]
     },
     "execution_count": 412,
     "metadata": {},
     "output_type": "execute_result"
    }
   ],
   "source": [
    "df['Size'].loc[df['Size'].str.contains('k')].value_counts().sum()"
   ]
  },
  {
   "cell_type": "code",
   "execution_count": 413,
   "id": "339ca9b6-d401-49d9-bf9a-34a5b3d3d646",
   "metadata": {},
   "outputs": [
    {
     "data": {
      "text/plain": [
       "74777"
      ]
     },
     "execution_count": 413,
     "metadata": {},
     "output_type": "execute_result"
    }
   ],
   "source": [
    "df['Size'].loc[df['Size'].str.contains('Varies with device')].value_counts().sum()"
   ]
  },
  {
   "cell_type": "code",
   "execution_count": 414,
   "id": "e72868b5-8893-4731-8279-74d9d1e5e8c0",
   "metadata": {},
   "outputs": [],
   "source": [
    "def convert_into_bytes(size):\n",
    "    size = size.replace(',', '')  # could not convert string to float: '1,018'\n",
    "    if isinstance(size, str):\n",
    "        if 'k' in size:\n",
    "            return float(size.replace('k','')) * 1024     # 1kb = 1024 bytes\n",
    "        elif 'M' in size:\n",
    "            return float(size.replace('M', '')) * 1024 * 1024     # 1Mb = 1024*1024 bytes\n",
    "        elif 'Varies with device' in size:\n",
    "            return np.nan\n",
    "    return (size)"
   ]
  },
  {
   "cell_type": "code",
   "execution_count": 415,
   "id": "6e63c0c5-b40c-4d5c-960f-f24c8fbfee44",
   "metadata": {},
   "outputs": [],
   "source": [
    "df[\"Size\"] = df[\"Size\"].apply(convert_into_bytes)"
   ]
  },
  {
   "cell_type": "code",
   "execution_count": 416,
   "id": "e7e221fa-f36b-47cb-b98a-f2a4e04dbd1c",
   "metadata": {},
   "outputs": [
    {
     "data": {
      "text/plain": [
       "0         10485760.0\n",
       "1          3040870.4\n",
       "2          3879731.2\n",
       "3          1887436.8\n",
       "4          6501171.2\n",
       "             ...    \n",
       "712940    46137344.0\n",
       "712941    30408704.0\n",
       "712942    10485760.0\n",
       "712943     5452595.2\n",
       "712944    12582912.0\n",
       "Name: Size, Length: 2312743, dtype: object"
      ]
     },
     "execution_count": 416,
     "metadata": {},
     "output_type": "execute_result"
    }
   ],
   "source": [
    "df[\"Size\"]"
   ]
  },
  {
   "cell_type": "code",
   "execution_count": 417,
   "id": "0de4bd11-ac0b-49dd-b0a4-1b233d50bef9",
   "metadata": {},
   "outputs": [
    {
     "data": {
      "text/plain": [
       "dtype('O')"
      ]
     },
     "execution_count": 417,
     "metadata": {},
     "output_type": "execute_result"
    }
   ],
   "source": [
    "df['Size'].dtype"
   ]
  },
  {
   "cell_type": "code",
   "execution_count": 418,
   "id": "45a1a32a-a02f-4a41-b1c1-12b98b16c409",
   "metadata": {},
   "outputs": [],
   "source": [
    "df['Size'] = pd.to_numeric(df['Size'], errors='coerce')"
   ]
  },
  {
   "cell_type": "code",
   "execution_count": 419,
   "id": "4dd614ef-72c8-4af4-880e-df11ee7835df",
   "metadata": {},
   "outputs": [
    {
     "data": {
      "text/plain": [
       "dtype('float64')"
      ]
     },
     "execution_count": 419,
     "metadata": {},
     "output_type": "execute_result"
    }
   ],
   "source": [
    "df['Size'].dtype"
   ]
  },
  {
   "cell_type": "code",
   "execution_count": 420,
   "id": "ae012977-fb66-4d5a-bbb6-7966d4c53491",
   "metadata": {},
   "outputs": [],
   "source": [
    "df['Size_MB'] = df['Size'].apply(lambda x: x/ (1024 * 1024))\n",
    "df['Size_KB'] = df['Size'].apply(lambda x: x/ 1024) "
   ]
  },
  {
   "cell_type": "code",
   "execution_count": 421,
   "id": "75683c90-f941-4aaa-b6a9-0d4545aab364",
   "metadata": {},
   "outputs": [],
   "source": [
    "df.drop([\"Size\"], inplace=True, axis=1)"
   ]
  },
  {
   "cell_type": "code",
   "execution_count": 422,
   "id": "79657aa9-eec7-4c44-9cc3-ca05eed01c52",
   "metadata": {},
   "outputs": [
    {
     "data": {
      "text/html": [
       "<div>\n",
       "<style scoped>\n",
       "    .dataframe tbody tr th:only-of-type {\n",
       "        vertical-align: middle;\n",
       "    }\n",
       "\n",
       "    .dataframe tbody tr th {\n",
       "        vertical-align: top;\n",
       "    }\n",
       "\n",
       "    .dataframe thead th {\n",
       "        text-align: right;\n",
       "    }\n",
       "</style>\n",
       "<table border=\"1\" class=\"dataframe\">\n",
       "  <thead>\n",
       "    <tr style=\"text-align: right;\">\n",
       "      <th></th>\n",
       "      <th>App Name</th>\n",
       "      <th>Category</th>\n",
       "      <th>Rating</th>\n",
       "      <th>Reviews</th>\n",
       "      <th>Installs</th>\n",
       "      <th>Free</th>\n",
       "      <th>Price</th>\n",
       "      <th>Developer Id</th>\n",
       "      <th>Content Rating</th>\n",
       "      <th>Editors Choice</th>\n",
       "      <th>Ad Supported</th>\n",
       "      <th>Released</th>\n",
       "      <th>Size_MB</th>\n",
       "      <th>Size_KB</th>\n",
       "    </tr>\n",
       "  </thead>\n",
       "  <tbody>\n",
       "    <tr>\n",
       "      <th>520563</th>\n",
       "      <td>ACE V3</td>\n",
       "      <td>Personalization</td>\n",
       "      <td>0.0</td>\n",
       "      <td>0</td>\n",
       "      <td>165</td>\n",
       "      <td>True</td>\n",
       "      <td>0.0</td>\n",
       "      <td>HOWIE SMITH</td>\n",
       "      <td>Everyone</td>\n",
       "      <td>False</td>\n",
       "      <td>False</td>\n",
       "      <td>2020</td>\n",
       "      <td>21.0</td>\n",
       "      <td>21504.0</td>\n",
       "    </tr>\n",
       "  </tbody>\n",
       "</table>\n",
       "</div>"
      ],
      "text/plain": [
       "       App Name         Category  Rating  Reviews  Installs  Free  Price  \\\n",
       "520563   ACE V3  Personalization     0.0        0       165  True    0.0   \n",
       "\n",
       "       Developer Id Content Rating  Editors Choice  Ad Supported  Released  \\\n",
       "520563  HOWIE SMITH       Everyone           False         False      2020   \n",
       "\n",
       "        Size_MB  Size_KB  \n",
       "520563     21.0  21504.0  "
      ]
     },
     "execution_count": 422,
     "metadata": {},
     "output_type": "execute_result"
    }
   ],
   "source": [
    "df.sample()"
   ]
  },
  {
   "cell_type": "markdown",
   "id": "9f58d33a-e745-4030-9859-fd9d7328615f",
   "metadata": {},
   "source": [
    "####"
   ]
  },
  {
   "cell_type": "markdown",
   "id": "6004823e-bc6d-41f1-be7c-d039d35c0506",
   "metadata": {},
   "source": [
    "#### Content Rating"
   ]
  },
  {
   "cell_type": "code",
   "execution_count": 423,
   "id": "6a9c9322-dd7a-4564-be60-280e406b7276",
   "metadata": {},
   "outputs": [
    {
     "data": {
      "text/plain": [
       "Content Rating\n",
       "Everyone           2021923\n",
       "Teen                196349\n",
       "Mature 17+           60283\n",
       "Everyone 10+         33898\n",
       "Unrated                154\n",
       "Adults only 18+        136\n",
       "Name: count, dtype: int64"
      ]
     },
     "execution_count": 423,
     "metadata": {},
     "output_type": "execute_result"
    }
   ],
   "source": [
    "df['Content Rating'].value_counts()"
   ]
  },
  {
   "cell_type": "code",
   "execution_count": 424,
   "id": "233b6c00-6b0d-453a-949b-4c76490e3a41",
   "metadata": {},
   "outputs": [
    {
     "name": "stdout",
     "output_type": "stream",
     "text": [
      "<class 'pandas.core.frame.DataFrame'>\n",
      "Index: 2312743 entries, 0 to 712944\n",
      "Data columns (total 14 columns):\n",
      " #   Column          Dtype  \n",
      "---  ------          -----  \n",
      " 0   App Name        object \n",
      " 1   Category        object \n",
      " 2   Rating          float64\n",
      " 3   Reviews         int32  \n",
      " 4   Installs        int64  \n",
      " 5   Free            bool   \n",
      " 6   Price           float64\n",
      " 7   Developer Id    object \n",
      " 8   Content Rating  object \n",
      " 9   Editors Choice  bool   \n",
      " 10  Ad Supported    bool   \n",
      " 11  Released        int32  \n",
      " 12  Size_MB         float64\n",
      " 13  Size_KB         float64\n",
      "dtypes: bool(3), float64(4), int32(2), int64(1), object(4)\n",
      "memory usage: 200.7+ MB\n"
     ]
    }
   ],
   "source": [
    "df.info()"
   ]
  },
  {
   "cell_type": "markdown",
   "id": "43796493-03ba-4200-b2b2-ad0d050db0b2",
   "metadata": {},
   "source": [
    "####"
   ]
  },
  {
   "cell_type": "markdown",
   "id": "09feff75-c9f9-474b-b5ef-2a92ad9389e4",
   "metadata": {},
   "source": [
    "#### Editors Choice"
   ]
  },
  {
   "cell_type": "code",
   "execution_count": 425,
   "id": "80940111-eed1-4b4b-901e-b5f515eb3883",
   "metadata": {},
   "outputs": [
    {
     "data": {
      "text/plain": [
       "Editors Choice\n",
       "False    2311890\n",
       "True         853\n",
       "Name: count, dtype: int64"
      ]
     },
     "execution_count": 425,
     "metadata": {},
     "output_type": "execute_result"
    }
   ],
   "source": [
    "df['Editors Choice'].value_counts()"
   ]
  },
  {
   "cell_type": "markdown",
   "id": "a1d6d80e-ec3e-4415-8524-9f5f20f93ef1",
   "metadata": {},
   "source": [
    "####"
   ]
  },
  {
   "cell_type": "markdown",
   "id": "9ecedef3-3806-41fe-babc-26b891a6e44b",
   "metadata": {},
   "source": [
    "#### Ad Supported"
   ]
  },
  {
   "cell_type": "code",
   "execution_count": 426,
   "id": "123f92b7-d083-4c02-a17d-1b7511ce4f64",
   "metadata": {},
   "outputs": [
    {
     "data": {
      "text/plain": [
       "Ad Supported\n",
       "False    1162025\n",
       "True     1150718\n",
       "Name: count, dtype: int64"
      ]
     },
     "execution_count": 426,
     "metadata": {},
     "output_type": "execute_result"
    }
   ],
   "source": [
    "df['Ad Supported'].value_counts()"
   ]
  },
  {
   "cell_type": "markdown",
   "id": "3c5a6225-5d2e-47a9-9d41-20011259ef9e",
   "metadata": {},
   "source": [
    "####"
   ]
  },
  {
   "cell_type": "markdown",
   "id": "81059f5f-0743-4011-916c-094a3fda738f",
   "metadata": {},
   "source": [
    "### What's the shape of data after data cleansing"
   ]
  },
  {
   "cell_type": "code",
   "execution_count": 427,
   "id": "22713817-3c1b-4bbb-9024-bb0f13f278f9",
   "metadata": {},
   "outputs": [
    {
     "data": {
      "text/plain": [
       "(2312743, 14)"
      ]
     },
     "execution_count": 427,
     "metadata": {},
     "output_type": "execute_result"
    }
   ],
   "source": [
    "df.shape"
   ]
  }
 ],
 "metadata": {
  "kernelspec": {
   "display_name": "Python 3 (ipykernel)",
   "language": "python",
   "name": "python3"
  },
  "language_info": {
   "codemirror_mode": {
    "name": "ipython",
    "version": 3
   },
   "file_extension": ".py",
   "mimetype": "text/x-python",
   "name": "python",
   "nbconvert_exporter": "python",
   "pygments_lexer": "ipython3",
   "version": "3.12.0"
  }
 },
 "nbformat": 4,
 "nbformat_minor": 5
}
